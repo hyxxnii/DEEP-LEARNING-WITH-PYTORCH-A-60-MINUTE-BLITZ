{
 "cells": [
  {
   "cell_type": "code",
   "execution_count": 2,
   "metadata": {},
   "outputs": [],
   "source": [
    "import torch\n",
    "import torch.nn as nn\n",
    "from torch.autograd import Variable\n",
    "import torch.optim as optim\n",
    "import torch.nn.functional as F\n",
    "import numpy as np\n",
    "\n",
    "torch.manual_seed(1)\n",
    "\n",
    "import warnings\n",
    "warnings.filterwarnings('ignore')\n",
    "\n",
    "import matplotlib.pyplot as plt\n",
    "%matplotlib inline"
   ]
  },
  {
   "cell_type": "code",
   "execution_count": 3,
   "metadata": {},
   "outputs": [
    {
     "name": "stdout",
     "output_type": "stream",
     "text": [
      "tensor([[1., 0.],\n",
      "        [1., 1.],\n",
      "        [0., 1.],\n",
      "        [0., 0.]])\n",
      "tensor([[1.],\n",
      "        [0.],\n",
      "        [1.],\n",
      "        [0.]])\n"
     ]
    }
   ],
   "source": [
    "x = Variable(torch.Tensor([[1.,0.],[1.,1.],[0.,1.],[0.,0.]]))\n",
    "y = Variable(torch.Tensor([[1.],[0.],[1.],[0.]]))\n",
    "\n",
    "print(x)\n",
    "print(y)"
   ]
  },
  {
   "attachments": {},
   "cell_type": "markdown",
   "metadata": {},
   "source": [
    "### Linear Model"
   ]
  },
  {
   "cell_type": "code",
   "execution_count": 4,
   "metadata": {},
   "outputs": [],
   "source": [
    "EPOCH=100\n",
    "LR=0.001\n",
    "\n",
    "linear_model = nn.Sequential(nn.Linear(2, 1), nn.Sigmoid())\n",
    "loss_function = nn.BCELoss()\n",
    "optimizer = optim.SGD(linear_model.parameters(), lr=LR)"
   ]
  },
  {
   "cell_type": "code",
   "execution_count": 5,
   "metadata": {},
   "outputs": [
    {
     "name": "stdout",
     "output_type": "stream",
     "text": [
      "[00/100] loss : 0.702\n",
      "[10/100] loss : 0.702\n",
      "[20/100] loss : 0.702\n",
      "[30/100] loss : 0.702\n",
      "[40/100] loss : 0.702\n",
      "[50/100] loss : 0.702\n",
      "[60/100] loss : 0.702\n",
      "[70/100] loss : 0.702\n",
      "[80/100] loss : 0.702\n",
      "[90/100] loss : 0.702\n"
     ]
    }
   ],
   "source": [
    "for epoch in range(EPOCH):\n",
    "    linear_model.zero_grad()\n",
    "    pred = linear_model(x)\n",
    "    \n",
    "    loss = loss_function(pred,y)\n",
    "    if epoch%10==0:\n",
    "        print(\"[%02d/%d] loss : %.3f\" % (epoch,EPOCH,loss.item()))\n",
    "    loss.backward()\n",
    "    optimizer.step()"
   ]
  },
  {
   "cell_type": "code",
   "execution_count": 6,
   "metadata": {},
   "outputs": [
    {
     "name": "stdout",
     "output_type": "stream",
     "text": [
      "[1.0, 0.0] 1.0\n",
      "[1.0, 1.0] 0.0\n",
      "[0.0, 1.0] 0.0\n",
      "[0.0, 0.0] 0.0\n"
     ]
    }
   ],
   "source": [
    "for t in x:\n",
    "    test = linear_model(t)\n",
    "    print(t.data.tolist(), torch.round(test).item())"
   ]
  },
  {
   "attachments": {},
   "cell_type": "markdown",
   "metadata": {},
   "source": [
    "### Nonlinear Model"
   ]
  },
  {
   "cell_type": "code",
   "execution_count": 7,
   "metadata": {},
   "outputs": [],
   "source": [
    "EPOCH=1000\n",
    "HIDDEN=2\n",
    "LR=0.1\n",
    "\n",
    "nonlinear_model = nn.Sequential(nn.Linear(2, HIDDEN),\n",
    "                                nn.ReLU(),\n",
    "                                nn.Linear(HIDDEN, 1),\n",
    "                                nn.Sigmoid())\n",
    "\n",
    "loss_function = nn.BCELoss()\n",
    "optimizer = optim.SGD(nonlinear_model.parameters(), lr=LR)"
   ]
  },
  {
   "cell_type": "code",
   "execution_count": 8,
   "metadata": {},
   "outputs": [
    {
     "name": "stdout",
     "output_type": "stream",
     "text": [
      "[00/1000] loss : 0.696\n",
      "[100/1000] loss : 0.658\n",
      "[200/1000] loss : 0.582\n",
      "[300/1000] loss : 0.518\n",
      "[400/1000] loss : 0.496\n",
      "[500/1000] loss : 0.488\n",
      "[600/1000] loss : 0.484\n",
      "[700/1000] loss : 0.482\n",
      "[800/1000] loss : 0.481\n",
      "[900/1000] loss : 0.480\n"
     ]
    }
   ],
   "source": [
    "for epoch in range(EPOCH):\n",
    "    nonlinear_model.zero_grad()\n",
    "    pred = nonlinear_model(x)\n",
    "    \n",
    "    loss = loss_function(pred, y)\n",
    "    if epoch%100==0:\n",
    "        print(\"[%02d/%d] loss : %.3f\" % (epoch, EPOCH, loss.item()))\n",
    "    loss.backward()\n",
    "    optimizer.step()"
   ]
  },
  {
   "cell_type": "code",
   "execution_count": null,
   "metadata": {},
   "outputs": [],
   "source": []
  }
 ],
 "metadata": {
  "kernelspec": {
   "display_name": "base-2",
   "language": "python",
   "name": "python3"
  },
  "language_info": {
   "codemirror_mode": {
    "name": "ipython",
    "version": 3
   },
   "file_extension": ".py",
   "mimetype": "text/x-python",
   "name": "python",
   "nbconvert_exporter": "python",
   "pygments_lexer": "ipython3",
   "version": "3.8.15"
  },
  "orig_nbformat": 4,
  "vscode": {
   "interpreter": {
    "hash": "68ed8995195bd962de769cc9f8fcfc2ab25d676ce75fb9dc4d84a42b658673fe"
   }
  }
 },
 "nbformat": 4,
 "nbformat_minor": 2
}
