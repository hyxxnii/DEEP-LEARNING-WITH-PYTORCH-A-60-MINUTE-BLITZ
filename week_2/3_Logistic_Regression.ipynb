{
 "cells": [
  {
   "cell_type": "code",
   "execution_count": 1,
   "metadata": {},
   "outputs": [
    {
     "name": "stderr",
     "output_type": "stream",
     "text": [
      "/opt/homebrew/Caskroom/miniforge/base/envs/base-2/lib/python3.8/site-packages/tqdm/auto.py:22: TqdmWarning: IProgress not found. Please update jupyter and ipywidgets. See https://ipywidgets.readthedocs.io/en/stable/user_install.html\n",
      "  from .autonotebook import tqdm as notebook_tqdm\n"
     ]
    }
   ],
   "source": [
    "import torch\n",
    "import torch.nn as nn\n",
    "from torch.autograd import Variable\n",
    "import torch.optim as optim\n",
    "import torch.nn.functional as F\n",
    "import torch.utils.data as torchdata\n",
    "import numpy as np\n",
    "\n",
    "torch.manual_seed(1)\n",
    "\n",
    "import pandas as pd\n",
    "import matplotlib.pyplot as plt\n",
    "from matplotlib.colors import ListedColormap\n",
    "%matplotlib inline"
   ]
  },
  {
   "attachments": {},
   "cell_type": "markdown",
   "metadata": {},
   "source": [
    "### 토이 데이터 생성"
   ]
  },
  {
   "cell_type": "code",
   "execution_count": 2,
   "metadata": {},
   "outputs": [],
   "source": [
    "x1 = torch.arange(1,101) + torch.randn(100)\n",
    "x2 = torch.cat([torch.zeros(50)+torch.abs(torch.randn(50)),torch.ones(50)-torch.abs(torch.randn(50))])\n",
    "x = torch.cat([x1.unsqueeze(1),x2.unsqueeze(1)],1)\n",
    "x = Variable(x)\n",
    "\n",
    "y = torch.cat([torch.zeros(50),torch.ones(50)])\n",
    "y = Variable(y).unsqueeze(1)"
   ]
  },
  {
   "cell_type": "code",
   "execution_count": 3,
   "metadata": {},
   "outputs": [
    {
     "data": {
      "image/png": "[encoded data removed]",
      "text/plain": [
       "<Figure size 640x480 with 1 Axes>"
      ]
     },
     "metadata": {},
     "output_type": "display_data"
    }
   ],
   "source": [
    "fig, ax = plt.subplots()\n",
    "ax.plot(x[:,0].data.numpy()[:50], x[:,1].data.numpy()[:50],'o',label='negative')\n",
    "ax.plot(x[:,0].data.numpy()[50:], x[:,1].data.numpy()[50:],'ro',label='positive')\n",
    "ax.legend()\n",
    "plt.show()"
   ]
  },
  {
   "attachments": {},
   "cell_type": "markdown",
   "metadata": {},
   "source": [
    "### TODO:토치 데이터와 데이터 로더 사용하기"
   ]
  },
  {
   "cell_type": "code",
   "execution_count": 4,
   "metadata": {},
   "outputs": [
    {
     "data": {
      "text/plain": [
       "(100, 3)"
      ]
     },
     "execution_count": 4,
     "metadata": {},
     "output_type": "execute_result"
    }
   ],
   "source": [
    "data = np.loadtxt('week_2/logistic_data.csv', delimiter=',', dtype=np.float32)\n",
    "data.shape"
   ]
  },
  {
   "cell_type": "code",
   "execution_count": 5,
   "metadata": {},
   "outputs": [],
   "source": [
    "class LogisticDataset(torchdata.Dataset):\n",
    "    def __init__(self):\n",
    "        data = np.loadtxt('week_2/logistic_data.csv', delimiter=',', dtype=np.float32)\n",
    "        self.length = data.shape[0]\n",
    "        self.x = torch.Tensor(data[:,:2])\n",
    "        self.y = torch.Tensor(data[:,2])\n",
    "        \n",
    "    def __getitem__(self, index):\n",
    "        # 인덱스에 해당하는 데이터셋 리턴\n",
    "        return self.x[index], self.y[index]\n",
    "    \n",
    "    def __len__(self):\n",
    "        # 데이터셋 수\n",
    "        return self.length"
   ]
  },
  {
   "cell_type": "code",
   "execution_count": 6,
   "metadata": {},
   "outputs": [],
   "source": [
    "data = LogisticDataset()\n",
    "x = data.x\n",
    "y = data.y.unsqueeze(1)"
   ]
  },
  {
   "attachments": {},
   "cell_type": "markdown",
   "metadata": {},
   "source": [
    "### 모델링"
   ]
  },
  {
   "cell_type": "code",
   "execution_count": 7,
   "metadata": {},
   "outputs": [
    {
     "name": "stdout",
     "output_type": "stream",
     "text": [
      "Parameter containing:\n",
      "tensor([[-0.4707,  0.5823]], requires_grad=True)\n",
      "Parameter containing:\n",
      "tensor([0.6233], requires_grad=True)\n"
     ]
    }
   ],
   "source": [
    "model = nn.Sequential(nn.Linear(2, 1),nn.Sigmoid())\n",
    "\n",
    "for param in model.parameters():\n",
    "    print(param)"
   ]
  },
  {
   "attachments": {},
   "cell_type": "markdown",
   "metadata": {},
   "source": [
    "### 트레이닝"
   ]
  },
  {
   "cell_type": "code",
   "execution_count": 8,
   "metadata": {},
   "outputs": [],
   "source": [
    "LEARNING_RATE=0.01\n",
    "EPOCH = 2000\n",
    "\n",
    "loss_function = nn.BCELoss()\n",
    "optimizer = optim.SGD(model.parameters(),lr=LEARNING_RATE)"
   ]
  },
  {
   "cell_type": "code",
   "execution_count": 9,
   "metadata": {},
   "outputs": [
    {
     "name": "stdout",
     "output_type": "stream",
     "text": [
      "[00/2000] loss : 17.404\n",
      "[100/2000] loss : 2.293\n",
      "[200/2000] loss : 0.667\n",
      "[300/2000] loss : 0.591\n",
      "[400/2000] loss : 0.842\n",
      "[500/2000] loss : 1.009\n",
      "[600/2000] loss : 1.496\n",
      "[700/2000] loss : 1.201\n",
      "[800/2000] loss : 2.205\n",
      "[900/2000] loss : 0.636\n",
      "[1000/2000] loss : 1.587\n",
      "[1100/2000] loss : 0.411\n",
      "[1200/2000] loss : 0.289\n",
      "[1300/2000] loss : 0.841\n",
      "[1400/2000] loss : 0.353\n",
      "[1500/2000] loss : 0.637\n",
      "[1600/2000] loss : 0.647\n",
      "[1700/2000] loss : 0.608\n",
      "[1800/2000] loss : 0.542\n",
      "[1900/2000] loss : 0.464\n"
     ]
    }
   ],
   "source": [
    "for epoch in range(EPOCH):\n",
    "    model.zero_grad()\n",
    "    pred = model(x)\n",
    "    loss = loss_function(pred, y)\n",
    "    \n",
    "    if epoch % 100 == 0:\n",
    "        print(\"[%02d/%d] loss : %.3f\" % (epoch, EPOCH, loss.item()))\n",
    "        \n",
    "    # gradient descent\n",
    "    loss.backward()\n",
    "    optimizer.step()"
   ]
  },
  {
   "cell_type": "code",
   "execution_count": 10,
   "metadata": {},
   "outputs": [],
   "source": [
    "def plot_decision_region(x, y, model):\n",
    "    X_p = x.data.numpy()\n",
    "    y_p = y.data.numpy().reshape(100)\n",
    "    markers = ('x', 's')\n",
    "    colors = ('blue', 'red')\n",
    "    cmap = ListedColormap(colors[:len(np.unique(y_p))])\n",
    "\n",
    "    # plot the decision surface\n",
    "    x1_min, x1_max = X_p[:, 0].min() - 1, X_p[:, 0].max() + 1\n",
    "    x2_min, x2_max = X_p[:, 1].min() - 1, X_p[:, 1].max() + 1\n",
    "    xx1, xx2 = np.meshgrid(np.arange(x1_min, x1_max, 0.02),\n",
    "                           np.arange(x2_min, x2_max, 0.02))\n",
    "\n",
    "    X_pp = Variable(torch.cat([torch.Tensor(xx1).view(-1,1),torch.Tensor(xx2).view(-1,1)],1))\n",
    "    Z = torch.round(model(X_pp))\n",
    "    Z = Z.float().data.numpy()\n",
    "    Z = Z.reshape(xx1.shape)\n",
    "    plt.contourf(xx1, xx2, Z, alpha=0.4, cmap=cmap)\n",
    "    plt.xlim(xx1.min(), xx1.max())\n",
    "    plt.ylim(xx2.min(), xx2.max())\n",
    "\n",
    "    for idx, cl in enumerate(np.unique(y_p)):\n",
    "        plt.scatter(x=X_p[y_p == cl, 0], \n",
    "                    y=X_p[y_p == cl, 1],\n",
    "                    alpha=0.6, \n",
    "                    c=cmap(idx),\n",
    "                    edgecolor='black',\n",
    "                    marker=markers[idx], \n",
    "                    label=cl)"
   ]
  },
  {
   "cell_type": "code",
   "execution_count": 11,
   "metadata": {},
   "outputs": [
    {
     "name": "stderr",
     "output_type": "stream",
     "text": [
      "*c* argument looks like a single numeric RGB or RGBA sequence, which should be avoided as value-mapping will have precedence in case its length matches with *x* & *y*.  Please use the *color* keyword-argument or provide a 2D array with a single row if you intend to specify the same RGB or RGBA value for all points.\n",
      "/var/folders/fw/9gdbjd851zl94gbm7f96rmcm0000gn/T/ipykernel_65335/2911557199.py:23: UserWarning: You passed a edgecolor/edgecolors ('black') for an unfilled marker ('x').  Matplotlib is ignoring the edgecolor in favor of the facecolor.  This behavior may change in the future.\n",
      "  plt.scatter(x=X_p[y_p == cl, 0],\n",
      "*c* argument looks like a single numeric RGB or RGBA sequence, which should be avoided as value-mapping will have precedence in case its length matches with *x* & *y*.  Please use the *color* keyword-argument or provide a 2D array with a single row if you intend to specify the same RGB or RGBA value for all points.\n"
     ]
    },
    {
     "data": {
      "image/png": "[encoded data removed]",
      "text/plain": [
       "<Figure size 640x480 with 1 Axes>"
      ]
     },
     "metadata": {},
     "output_type": "display_data"
    }
   ],
   "source": [
    "plot_decision_region(x, y, model)"
   ]
  },
  {
   "cell_type": "code",
   "execution_count": null,
   "metadata": {},
   "outputs": [],
   "source": []
  }
 ],
 "metadata": {
  "kernelspec": {
   "display_name": "base-2",
   "language": "python",
   "name": "python3"
  },
  "language_info": {
   "codemirror_mode": {
    "name": "ipython",
    "version": 3
   },
   "file_extension": ".py",
   "mimetype": "text/x-python",
   "name": "python",
   "nbconvert_exporter": "python",
   "pygments_lexer": "ipython3",
   "version": "3.8.15"
  },
  "orig_nbformat": 4,
  "vscode": {
   "interpreter": {
    "hash": "68ed8995195bd962de769cc9f8fcfc2ab25d676ce75fb9dc4d84a42b658673fe"
   }
  }
 },
 "nbformat": 4,
 "nbformat_minor": 2
}
