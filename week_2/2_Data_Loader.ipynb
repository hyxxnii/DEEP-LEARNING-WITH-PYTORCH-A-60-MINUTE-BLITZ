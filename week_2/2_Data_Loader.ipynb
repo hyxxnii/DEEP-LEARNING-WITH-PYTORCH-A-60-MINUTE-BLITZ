{
 "cells": [
  {
   "cell_type": "code",
   "execution_count": 8,
   "metadata": {},
   "outputs": [],
   "source": [
    "import torch\n",
    "import torch.nn as nn\n",
    "from torch.autograd import Variable\n",
    "import torch.optim as optim\n",
    "import torch.nn.functional as F\n",
    "import numpy as np\n",
    "\n",
    "import torch.utils.data as torchdata\n",
    "import torchvision.transforms as transforms\n",
    "import torchvision.datasets as vision_datasets\n",
    "\n",
    "import nltk\n",
    "#from torchtext.legacy.data import Field, Iterator\n",
    "#import torchtext.datasets as text_datasets\n",
    "\n",
    "torch.manual_seed(1)\n",
    "\n",
    "import matplotlib.pyplot as plt\n",
    "%matplotlib inline"
   ]
  },
  {
   "cell_type": "code",
   "execution_count": 9,
   "metadata": {},
   "outputs": [],
   "source": [
    "class CustomDataset(torchdata.Dataset):\n",
    "    def __init__(self):\n",
    "        # 데이터 로드, 전처리\n",
    "        # or 데이터 경로\n",
    "        self.x = torch.randn(100,1).float()\n",
    "        self.y = torch.arange(0,100).long()\n",
    "        \n",
    "    def __getitem__(self, index):\n",
    "        # 인덱스에 해당하는 데이터셋 리턴\n",
    "        return self.x[index], self.y[index]\n",
    "        \n",
    "    def __len__(self):\n",
    "        # 데이터셋 수\n",
    "        return len(self.x) "
   ]
  },
  {
   "cell_type": "code",
   "execution_count": 10,
   "metadata": {},
   "outputs": [],
   "source": [
    "mydataset = CustomDataset()"
   ]
  },
  {
   "attachments": {},
   "cell_type": "markdown",
   "metadata": {},
   "source": [
    "### torch.utils.data.DataLoader\n",
    "데이터 iterator"
   ]
  },
  {
   "cell_type": "code",
   "execution_count": 11,
   "metadata": {},
   "outputs": [],
   "source": [
    "train_loader = torch.utils.data.DataLoader(dataset=mydataset,\n",
    "                                           batch_size=5,\n",
    "                                           shuffle=True)"
   ]
  },
  {
   "cell_type": "code",
   "execution_count": 12,
   "metadata": {},
   "outputs": [
    {
     "name": "stdout",
     "output_type": "stream",
     "text": [
      "[tensor([[ 0.6995],\n",
      "        [-0.6446],\n",
      "        [ 0.1991],\n",
      "        [ 2.3571],\n",
      "        [-0.6177]]), tensor([18, 59, 36, 44, 29])]\n"
     ]
    }
   ],
   "source": [
    "for i, batch in enumerate(train_loader):\n",
    "    print(batch)\n",
    "    break"
   ]
  },
  {
   "cell_type": "code",
   "execution_count": null,
   "metadata": {},
   "outputs": [],
   "source": []
  }
 ],
 "metadata": {
  "kernelspec": {
   "display_name": "base-2",
   "language": "python",
   "name": "python3"
  },
  "language_info": {
   "codemirror_mode": {
    "name": "ipython",
    "version": 3
   },
   "file_extension": ".py",
   "mimetype": "text/x-python",
   "name": "python",
   "nbconvert_exporter": "python",
   "pygments_lexer": "ipython3",
   "version": "3.8.15"
  },
  "orig_nbformat": 4,
  "vscode": {
   "interpreter": {
    "hash": "68ed8995195bd962de769cc9f8fcfc2ab25d676ce75fb9dc4d84a42b658673fe"
   }
  }
 },
 "nbformat": 4,
 "nbformat_minor": 2
}
