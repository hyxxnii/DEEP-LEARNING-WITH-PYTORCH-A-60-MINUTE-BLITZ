{
 "cells": [
  {
   "cell_type": "code",
   "execution_count": 1,
   "metadata": {},
   "outputs": [
    {
     "name": "stderr",
     "output_type": "stream",
     "text": [
      "/opt/homebrew/Caskroom/miniforge/base/envs/base-2/lib/python3.8/site-packages/tqdm/auto.py:22: TqdmWarning: IProgress not found. Please update jupyter and ipywidgets. See https://ipywidgets.readthedocs.io/en/stable/user_install.html\n",
      "  from .autonotebook import tqdm as notebook_tqdm\n"
     ]
    }
   ],
   "source": [
    "import torch\n",
    "import torch.nn as nn\n",
    "from torch.autograd import Variable\n",
    "import torch.optim as optim\n",
    "import torch.nn.functional as F\n",
    "import numpy as np\n",
    "import torchvision.transforms as transforms\n",
    "import torchvision.datasets as vdatasets\n",
    "\n",
    "torch.manual_seed(1)\n",
    "import matplotlib.pyplot as plt\n",
    "%matplotlib inline"
   ]
  },
  {
   "attachments": {},
   "cell_type": "markdown",
   "metadata": {},
   "source": [
    "### Softmax\n",
    "$softmax(x) = \\frac{exp(x_i)}{\\sum_j exp(x_j)}$"
   ]
  },
  {
   "cell_type": "code",
   "execution_count": 3,
   "metadata": {},
   "outputs": [
    {
     "name": "stdout",
     "output_type": "stream",
     "text": [
      "tensor([0.6590, 0.2424, 0.0986])\n",
      "tensor(1.0000)\n",
      "\n",
      "tensor([0.6590, 0.2424, 0.0986])\n",
      "tensor(1.0000)\n"
     ]
    }
   ],
   "source": [
    "z = torch.Tensor([2.0, 1.0, 0.1])\n",
    "\n",
    "def softmax(z):\n",
    "    exps = torch.exp(z)\n",
    "    return exps / torch.sum(exps)\n",
    "\n",
    "print(softmax(z))\n",
    "print(torch.sum(softmax(z)))\n",
    "print(\"\")\n",
    "\n",
    "res = F.softmax(Variable(z), 0)\n",
    "print(res)\n",
    "print(torch.sum(res))"
   ]
  },
  {
   "attachments": {},
   "cell_type": "markdown",
   "metadata": {},
   "source": [
    "### Cross Entroy\n",
    "$H(p,q)=-\\sum_xp(x)logq(x)$"
   ]
  },
  {
   "cell_type": "code",
   "execution_count": 5,
   "metadata": {},
   "outputs": [
    {
     "name": "stdout",
     "output_type": "stream",
     "text": [
      "tensor(0.3567)\n",
      "tensor(4.6052)\n",
      "0.4170299470424652\n",
      "1.4170299768447876\n"
     ]
    }
   ],
   "source": [
    "predict_1 = torch.Tensor([0.7, 0.2, 0.1])\n",
    "predict_2 = torch.Tensor([0.01, 0.9, 0.99])\n",
    "\n",
    "target = torch.Tensor([1.0, 0.0, 0.0])\n",
    "\n",
    "def cross_entropy(q, p):\n",
    "    return -torch.sum(p*torch.log(q))\n",
    "\n",
    "print(cross_entropy(predict_1, target)) # 옳게 예측 => low loss\n",
    "print(cross_entropy(predict_2, target)) # 틀리게 예측 => high loss\n",
    "\n",
    "# in practical\n",
    "predict_1  = torch.Tensor([2., 1., 0.1])\n",
    "predict_2 = torch.Tensor([1., 2., 0.1])\n",
    "target = torch.LongTensor([0])\n",
    "\n",
    "loss_function = nn.CrossEntropyLoss() # softmax 연산을 포함하고 있음\n",
    "loss1 = loss_function(Variable(predict_1).view(1, -1), Variable(target))\n",
    "loss2 = loss_function(Variable(predict_2).view(1, -1), Variable(target))\n",
    "\n",
    "print(loss1.item())\n",
    "print(loss2.item())\n"
   ]
  },
  {
   "attachments": {},
   "cell_type": "markdown",
   "metadata": {},
   "source": [
    "### MNIST dataset"
   ]
  },
  {
   "cell_type": "code",
   "execution_count": 9,
   "metadata": {},
   "outputs": [
    {
     "name": "stdout",
     "output_type": "stream",
     "text": [
      "Downloading http://yann.lecun.com/exdb/mnist/train-images-idx3-ubyte.gz\n",
      "Downloading http://yann.lecun.com/exdb/mnist/train-images-idx3-ubyte.gz to ../../data/MNIST/MNIST/raw/train-images-idx3-ubyte.gz\n"
     ]
    },
    {
     "name": "stderr",
     "output_type": "stream",
     "text": [
      "100%|██████████| 9912422/9912422 [00:00<00:00, 31129330.51it/s]\n"
     ]
    },
    {
     "name": "stdout",
     "output_type": "stream",
     "text": [
      "Extracting ../../data/MNIST/MNIST/raw/train-images-idx3-ubyte.gz to ../../data/MNIST/MNIST/raw\n",
      "\n",
      "Downloading http://yann.lecun.com/exdb/mnist/train-labels-idx1-ubyte.gz\n",
      "Downloading http://yann.lecun.com/exdb/mnist/train-labels-idx1-ubyte.gz to ../../data/MNIST/MNIST/raw/train-labels-idx1-ubyte.gz\n"
     ]
    },
    {
     "name": "stderr",
     "output_type": "stream",
     "text": [
      "100%|██████████| 28881/28881 [00:00<00:00, 34267523.01it/s]\n"
     ]
    },
    {
     "name": "stdout",
     "output_type": "stream",
     "text": [
      "Extracting ../../data/MNIST/MNIST/raw/train-labels-idx1-ubyte.gz to ../../data/MNIST/MNIST/raw\n",
      "\n",
      "Downloading http://yann.lecun.com/exdb/mnist/t10k-images-idx3-ubyte.gz\n",
      "Downloading http://yann.lecun.com/exdb/mnist/t10k-images-idx3-ubyte.gz to ../../data/MNIST/MNIST/raw/t10k-images-idx3-ubyte.gz\n"
     ]
    },
    {
     "name": "stderr",
     "output_type": "stream",
     "text": [
      "100%|██████████| 1648877/1648877 [00:00<00:00, 6643022.60it/s]\n"
     ]
    },
    {
     "name": "stdout",
     "output_type": "stream",
     "text": [
      "Extracting ../../data/MNIST/MNIST/raw/t10k-images-idx3-ubyte.gz to ../../data/MNIST/MNIST/raw\n",
      "\n",
      "Downloading http://yann.lecun.com/exdb/mnist/t10k-labels-idx1-ubyte.gz\n",
      "Downloading http://yann.lecun.com/exdb/mnist/t10k-labels-idx1-ubyte.gz to ../../data/MNIST/MNIST/raw/t10k-labels-idx1-ubyte.gz\n"
     ]
    },
    {
     "name": "stderr",
     "output_type": "stream",
     "text": [
      "100%|██████████| 4542/4542 [00:00<00:00, 992111.70it/s]"
     ]
    },
    {
     "name": "stdout",
     "output_type": "stream",
     "text": [
      "Extracting ../../data/MNIST/MNIST/raw/t10k-labels-idx1-ubyte.gz to ../../data/MNIST/MNIST/raw\n",
      "\n"
     ]
    },
    {
     "name": "stderr",
     "output_type": "stream",
     "text": [
      "\n"
     ]
    }
   ],
   "source": [
    "from torchvision.datasets import MNIST\n",
    "train_dataset = vdatasets.MNIST(root='../../data/MNIST/',\n",
    "                               train=True, \n",
    "                               transform=transforms.ToTensor(),\n",
    "                               download=True)\n",
    "\n",
    "\n",
    "train_loader = torch.utils.data.DataLoader(dataset=train_dataset,\n",
    "                                           batch_size=64, \n",
    "                                           shuffle=True,\n",
    "                                           num_workers=2)\n",
    "\n",
    "test_dataset = vdatasets.MNIST(root='../../data/MNIST/',\n",
    "                               train=False, \n",
    "                               transform=transforms.ToTensor(),\n",
    "                               download=True)\n",
    "\n",
    "\n",
    "test_loader = torch.utils.data.DataLoader(dataset=test_dataset,\n",
    "                                           batch_size=64, \n",
    "                                           shuffle=True,\n",
    "                                           num_workers=2)"
   ]
  },
  {
   "cell_type": "code",
   "execution_count": 10,
   "metadata": {},
   "outputs": [
    {
     "name": "stdout",
     "output_type": "stream",
     "text": [
      "torch.Size([1, 28, 28])\n",
      "5\n"
     ]
    }
   ],
   "source": [
    "print(train_dataset[0][0].size())\n",
    "print(train_dataset[0][1])"
   ]
  },
  {
   "cell_type": "code",
   "execution_count": 11,
   "metadata": {},
   "outputs": [
    {
     "data": {
      "image/png": "[encoded data removed]",
      "text/plain": [
       "<Figure size 640x480 with 9 Axes>"
      ]
     },
     "metadata": {},
     "output_type": "display_data"
    }
   ],
   "source": [
    "for i in range(9):\n",
    "    plt.subplot(3, 3, i+1)\n",
    "    plt.imshow(train_dataset[i][0].squeeze(0).numpy(), cmap='gray', interpolation='none')\n",
    "    plt.title(\"Class {}\".format(train_dataset[i][1]))"
   ]
  },
  {
   "attachments": {},
   "cell_type": "markdown",
   "metadata": {},
   "source": [
    "### 모델링"
   ]
  },
  {
   "cell_type": "code",
   "execution_count": 13,
   "metadata": {},
   "outputs": [],
   "source": [
    "class NN(nn.Module):\n",
    "    def __init__(self, input_size, hidden_size, output_size):\n",
    "        super(NN, self).__init__()\n",
    "        \n",
    "        self.l1 = nn.Linear(input_size, hidden_size)\n",
    "        self.l2 = nn.Linear(hidden_size, output_size)\n",
    "        \n",
    "    def forward(self, inputs):\n",
    "        outputs = F.relu(self.l1(inputs))\n",
    "        return self.l2(outputs)"
   ]
  },
  {
   "cell_type": "code",
   "execution_count": 14,
   "metadata": {},
   "outputs": [],
   "source": [
    "EPOCH=5\n",
    "LR=0.01\n",
    "BATCH_SIZE=64\n",
    "\n",
    "model = NN(784, 512, 10)\n",
    "loss_function = nn.CrossEntropyLoss() # 소프트맥스 함수 포함하고 있음\n",
    "optimizer = optim.SGD(model.parameters(), lr=LR)"
   ]
  },
  {
   "attachments": {},
   "cell_type": "markdown",
   "metadata": {},
   "source": [
    "$loss(x, class) = -log(exp(x[class]) / (\\sum_j exp(x[j]))) = -x[class] + log(\\sum_j exp(x[j]))$"
   ]
  },
  {
   "attachments": {},
   "cell_type": "markdown",
   "metadata": {},
   "source": [
    "### 트레이닝"
   ]
  },
  {
   "cell_type": "code",
   "execution_count": 15,
   "metadata": {},
   "outputs": [
    {
     "name": "stdout",
     "output_type": "stream",
     "text": [
      "[0/5] [000/938] mean_loss : 2.313\n",
      "[0/5] [100/938] mean_loss : 2.180\n",
      "[0/5] [200/938] mean_loss : 1.905\n",
      "[0/5] [300/938] mean_loss : 1.568\n",
      "[0/5] [400/938] mean_loss : 1.255\n",
      "[0/5] [500/938] mean_loss : 1.011\n",
      "[0/5] [600/938] mean_loss : 0.845\n",
      "[0/5] [700/938] mean_loss : 0.746\n",
      "[0/5] [800/938] mean_loss : 0.688\n",
      "[0/5] [900/938] mean_loss : 0.626\n",
      "[1/5] [000/938] mean_loss : 0.478\n",
      "[1/5] [100/938] mean_loss : 0.563\n",
      "[1/5] [200/938] mean_loss : 0.550\n",
      "[1/5] [300/938] mean_loss : 0.504\n",
      "[1/5] [400/938] mean_loss : 0.480\n",
      "[1/5] [500/938] mean_loss : 0.480\n",
      "[1/5] [600/938] mean_loss : 0.460\n",
      "[1/5] [700/938] mean_loss : 0.436\n",
      "[1/5] [800/938] mean_loss : 0.436\n",
      "[1/5] [900/938] mean_loss : 0.433\n",
      "[2/5] [000/938] mean_loss : 0.483\n",
      "[2/5] [100/938] mean_loss : 0.409\n",
      "[2/5] [200/938] mean_loss : 0.393\n",
      "[2/5] [300/938] mean_loss : 0.403\n",
      "[2/5] [400/938] mean_loss : 0.390\n",
      "[2/5] [500/938] mean_loss : 0.388\n",
      "[2/5] [600/938] mean_loss : 0.384\n",
      "[2/5] [700/938] mean_loss : 0.363\n",
      "[2/5] [800/938] mean_loss : 0.383\n",
      "[2/5] [900/938] mean_loss : 0.364\n",
      "[3/5] [000/938] mean_loss : 0.279\n",
      "[3/5] [100/938] mean_loss : 0.348\n",
      "[3/5] [200/938] mean_loss : 0.360\n",
      "[3/5] [300/938] mean_loss : 0.362\n",
      "[3/5] [400/938] mean_loss : 0.352\n",
      "[3/5] [500/938] mean_loss : 0.357\n",
      "[3/5] [600/938] mean_loss : 0.347\n",
      "[3/5] [700/938] mean_loss : 0.332\n",
      "[3/5] [800/938] mean_loss : 0.355\n",
      "[3/5] [900/938] mean_loss : 0.320\n",
      "[4/5] [000/938] mean_loss : 0.211\n",
      "[4/5] [100/938] mean_loss : 0.335\n",
      "[4/5] [200/938] mean_loss : 0.334\n",
      "[4/5] [300/938] mean_loss : 0.319\n",
      "[4/5] [400/938] mean_loss : 0.329\n",
      "[4/5] [500/938] mean_loss : 0.321\n",
      "[4/5] [600/938] mean_loss : 0.307\n",
      "[4/5] [700/938] mean_loss : 0.321\n",
      "[4/5] [800/938] mean_loss : 0.315\n",
      "[4/5] [900/938] mean_loss : 0.304\n"
     ]
    }
   ],
   "source": [
    "for epoch in range(EPOCH):\n",
    "    losses=[]\n",
    "    for i, (inputs, targets) in enumerate(train_loader):\n",
    "        inputs, targets = Variable(inputs).view(-1,784), Variable(targets)\n",
    "        model.zero_grad()\n",
    "        outputs = model(inputs)\n",
    "        loss = loss_function(outputs, targets)\n",
    "        loss.backward()\n",
    "        optimizer.step()\n",
    "\n",
    "        losses.append(loss.item())\n",
    "        if i % 100 == 0:\n",
    "            print(\"[%d/%d] [%03d/%d] mean_loss : %.3f\" % (epoch, EPOCH, i, len(train_loader), np.mean(losses)))\n",
    "            losses=[]"
   ]
  },
  {
   "attachments": {},
   "cell_type": "markdown",
   "metadata": {},
   "source": [
    "### 테스트"
   ]
  },
  {
   "cell_type": "code",
   "execution_count": 16,
   "metadata": {},
   "outputs": [
    {
     "name": "stdout",
     "output_type": "stream",
     "text": [
      "Accuracy :  0.9167\n"
     ]
    }
   ],
   "source": [
    "num_equal=0\n",
    "for i, (inputs, targets) in enumerate(test_loader):\n",
    "    inputs, targets = Variable(inputs).view(-1,784), Variable(targets)\n",
    "    outputs = model(inputs)\n",
    "    \n",
    "    outputs = outputs.max(1)[1] # argmax\n",
    "    num_equal += torch.eq(outputs, targets).sum().item() # eq: 같으면 True\n",
    "    \n",
    "print(\"Accuracy : \" ,num_equal/len(test_dataset))"
   ]
  },
  {
   "cell_type": "code",
   "execution_count": null,
   "metadata": {},
   "outputs": [],
   "source": []
  }
 ],
 "metadata": {
  "kernelspec": {
   "display_name": "base-2",
   "language": "python",
   "name": "python3"
  },
  "language_info": {
   "codemirror_mode": {
    "name": "ipython",
    "version": 3
   },
   "file_extension": ".py",
   "mimetype": "text/x-python",
   "name": "python",
   "nbconvert_exporter": "python",
   "pygments_lexer": "ipython3",
   "version": "3.8.15"
  },
  "orig_nbformat": 4,
  "vscode": {
   "interpreter": {
    "hash": "68ed8995195bd962de769cc9f8fcfc2ab25d676ce75fb9dc4d84a42b658673fe"
   }
  }
 },
 "nbformat": 4,
 "nbformat_minor": 2
}
